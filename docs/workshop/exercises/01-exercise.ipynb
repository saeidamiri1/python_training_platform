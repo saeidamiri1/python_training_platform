{
 "cells": [
  {
   "cell_type": "markdown",
   "metadata": {},
   "source": [
    "# Data Analysis using Python\n",
    "## 01-Excercise\n"
   ]
  },
  {
   "cell_type": "markdown",
   "metadata": {},
   "source": [
    "1-1: Create a tuple with the four elements \"a,\" 3, 6, and [1, 2]:"
   ]
  },
  {
   "cell_type": "code",
   "execution_count": 6,
   "metadata": {},
   "outputs": [],
   "source": [
    "my_tuple=('a',3,6,[1,2])"
   ]
  },
  {
   "cell_type": "markdown",
   "metadata": {},
   "source": [
    "1-2: Assign the hourly wages of Sam, Ryan, and Eli to a dictionary called wage and then get the keys, values, and items of the dictionary. "
   ]
  },
  {
   "cell_type": "code",
   "execution_count": 1,
   "metadata": {},
   "outputs": [
    {
     "name": "stdout",
     "output_type": "stream",
     "text": [
      "Names: dict_keys(['Sam', 'Ryan', 'Eli'])\n",
      "Wages: dict_values([15, 25, 30])\n",
      "Items: dict_items([('Sam', 15), ('Ryan', 25), ('Eli', 30)])\n"
     ]
    }
   ],
   "source": [
    "# Assign hourly wages to a dictionary\n",
    "wage = {'Sam': 15, 'Ryan': 25, 'Eli': 30}\n",
    "\n",
    "# Get keys (names), values (wages), and items (key-value pairs)\n",
    "names = wage.keys()\n",
    "wages = wage.values()\n",
    "items = wage.items()\n",
    "\n",
    "# Print the results\n",
    "print(\"Names:\", names)\n",
    "print(\"Wages:\", wages)\n",
    "print(\"Items:\", items)"
   ]
  },
  {
   "cell_type": "markdown",
   "metadata": {},
   "source": [
    "1-3: Change the salary of Sam to 16, and add new person, john, 22, and delete Ryan. "
   ]
  },
  {
   "cell_type": "code",
   "execution_count": 8,
   "metadata": {},
   "outputs": [],
   "source": [
    "wage['sam']=16\n",
    "wage['john']=22\n",
    "del wage['Ryan']"
   ]
  },
  {
   "cell_type": "markdown",
   "metadata": {},
   "source": [
    "1-4: Write a loop to iterates through the numbers from 1 to 5 and prints them, but it skips the number 4 "
   ]
  },
  {
   "cell_type": "code",
   "execution_count": 9,
   "metadata": {},
   "outputs": [
    {
     "name": "stdout",
     "output_type": "stream",
     "text": [
      "1\n",
      "2\n",
      "3\n",
      "5\n"
     ]
    }
   ],
   "source": [
    "count = 1\n",
    "while count < 6:\n",
    "    if count == 4:\n",
    "        count = count + 1\n",
    "        continue\n",
    "    print(count)\n",
    "    count = count + 1"
   ]
  },
  {
   "cell_type": "markdown",
   "metadata": {},
   "source": [
    "1-5: Write a function to check if the number is even or not.  "
   ]
  },
  {
   "cell_type": "code",
   "execution_count": 11,
   "metadata": {},
   "outputs": [
    {
     "name": "stdout",
     "output_type": "stream",
     "text": [
      "it is even\n"
     ]
    }
   ],
   "source": [
    "def is_even (n):\n",
    "    if n % 2 == 0:\n",
    "        return print('it is even') \n",
    "    return print('it is odd')"
   ]
  },
  {
   "cell_type": "code",
   "execution_count": 12,
   "metadata": {},
   "outputs": [
    {
     "name": "stdout",
     "output_type": "stream",
     "text": [
      "it is even\n"
     ]
    }
   ],
   "source": [
    "is_even (10)"
   ]
  },
  {
   "cell_type": "markdown",
   "metadata": {},
   "source": [
    "1-6: Write a comprehension; get a list and drop 1st, and 3th obs.\n"
   ]
  },
  {
   "cell_type": "code",
   "execution_count": null,
   "metadata": {},
   "outputs": [],
   "source": [
    "obs=range(1,10)\n",
    "[x for (i,x) in enumerate(obs) if i not in (0,2)]"
   ]
  },
  {
   "cell_type": "markdown",
   "metadata": {},
   "source": [
    "1-7: Write a comprehension that select number that are divisible by 3 and 5 between 1 and 100"
   ]
  },
  {
   "cell_type": "code",
   "execution_count": null,
   "metadata": {},
   "outputs": [],
   "source": [
    "obs=range(1,101)\n",
    "[x for x in obs if x%3==0 and x%5==0]"
   ]
  },
  {
   "cell_type": "markdown",
   "metadata": {},
   "source": [
    "1-8: generate even numbers list in range 0 to 15"
   ]
  },
  {
   "cell_type": "code",
   "execution_count": null,
   "metadata": {},
   "outputs": [],
   "source": [
    "[i for i in range(15) if i % 2 == 0] "
   ]
  },
  {
   "cell_type": "markdown",
   "metadata": {},
   "source": [
    "[Contents](../..) \\| [Next (2) Exercise](../02-exercise)\n",
    "------\n",
    "[01-starting with data ](../../notebooks/01-starting-with-data)"
   ]
  }
 ],
 "metadata": {
  "kernelspec": {
   "display_name": "Python 3.9.13 64-bit",
   "language": "python",
   "name": "python3"
  },
  "language_info": {
   "codemirror_mode": {
    "name": "ipython",
    "version": 3
   },
   "file_extension": ".py",
   "mimetype": "text/x-python",
   "name": "python",
   "nbconvert_exporter": "python",
   "pygments_lexer": "ipython3",
   "version": "3.11.5"
  },
  "vscode": {
   "interpreter": {
    "hash": "397704579725e15f5c7cb49fe5f0341eb7531c82d19f2c29d197e8b64ab5776b"
   }
  }
 },
 "nbformat": 4,
 "nbformat_minor": 2
}
