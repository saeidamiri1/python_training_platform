{
 "cells": [
  {
   "cell_type": "markdown",
   "metadata": {},
   "source": [
    "# Data Analysis using Python\n",
    "##  03-Manipulating data-frame\n",
    "\n",
    "Objectives\n",
    "*  Selecting subset of data frame\n",
    "*  Labeling the dataframe\n",
    "*  Reassigning the values\n",
    "*  Running condition using `==`, `!=`, `>`, `<`, `>=`, `<=`\n",
    "\n",
    "Contens: \n",
    "* Selecting Data \n",
    "* Subsets of Rows and Columns \n",
    "* Generating descriptive statistics\n",
    "\n"
   ]
  },
  {
   "cell_type": "markdown",
   "metadata": {},
   "source": [
    "### Selecting part of Data \n",
    "To choose a column, employ either the column label enclosed within square brackets `[]` or with a period following the dataframe name."
   ]
  },
  {
   "cell_type": "code",
   "execution_count": null,
   "metadata": {},
   "outputs": [],
   "source": [
    "CHD.median_house_value\n",
    "CHD['median_house_value']"
   ]
  },
  {
   "cell_type": "markdown",
   "metadata": {},
   "source": [
    "When you select a single column from a pandas DataFrame, you'll obtain a pandas Series, which is a 1-dimensional data structure. You can access the data either by using the column's variable name or by specifying the indices through `.iloc` and `.loc` [link](http://pandas.pydata.org/pandas-docs/version/0.22/indexing.html).  `.iloc` is designed for integer-based selection and should be used with integer indices. On the other hand, `.loc` is primarily label-based but can also be employed with a boolean array for selection.\n"
   ]
  },
  {
   "cell_type": "code",
   "execution_count": null,
   "metadata": {},
   "outputs": [],
   "source": [
    "CHD.longitude\n",
    "CHD['longitude']\n",
    "CHD.iloc[:, 1]\n",
    "CHD.iloc[:, [1, 3]]"
   ]
  },
  {
   "cell_type": "markdown",
   "metadata": {},
   "source": [
    "### Subsets of Rows and Columns \n",
    "To choose a portion of a row, you can utilize `iloc[row_index, :]`, and you can also filter rows using logical values."
   ]
  },
  {
   "cell_type": "code",
   "execution_count": null,
   "metadata": {},
   "outputs": [],
   "source": [
    "CHD.iloc[2:10]\n",
    "CHD.iloc[2:10,:]\n",
    "CHD.iloc[[2, 10], :]\n",
    "CHD[CHD.iloc[:,1]<34]"
   ]
  },
  {
   "cell_type": "markdown",
   "metadata": {},
   "source": [
    "To retrieve a part of a row using a boolean variable, you should use `.loc` because it works with boolean indexing. Regarding categorizing median_income into three categories based on given value of 2.7 and 4.4, you can do it as follows:\n"
   ]
  },
  {
   "cell_type": "code",
   "execution_count": null,
   "metadata": {},
   "outputs": [],
   "source": [
    "CHD['famlev'] = ''\n",
    "C1=CHD.median_income<=2.7\n",
    "C2=CHD.median_income>=4.4\n",
    "CHD.loc[C1,'famlev']='L'\n",
    "CHD.loc[~C1&~C2,'famlev']='M'\n",
    "CHD.loc[C2,'famlev']='H'"
   ]
  },
  {
   "cell_type": "markdown",
   "metadata": {},
   "source": [
    "This code can be rewritten as "
   ]
  },
  {
   "cell_type": "code",
   "execution_count": null,
   "metadata": {},
   "outputs": [],
   "source": [
    "# Create a new column to store the categories\n",
    "CHD['famlev2'] = pd.cut(df['median_income'], bins=[0, 2.7, 4.4, np.inf], labels=['L', 'M', 'H'])\n"
   ]
  },
  {
   "cell_type": "markdown",
   "metadata": {},
   "source": [
    "### Generating descriptinve statistics\n",
    "While `.describe()` can provide a summary of variables, you can extract a more specific summary of individual columns, as shown below."
   ]
  },
  {
   "cell_type": "code",
   "execution_count": null,
   "metadata": {},
   "outputs": [],
   "source": [
    "CHD.count\n",
    "CHD[CHD.iloc[:, 1] < 34].nunique()"
   ]
  },
  {
   "cell_type": "markdown",
   "metadata": {},
   "source": [
    "The following table includes the useful functions.\n",
    "\n",
    "|Function|Description|\n",
    "|---|---|\n",
    "`count`|\tNumber of non-null observations\n",
    "`sum`\t | Sum of values\n",
    "`mean`\t|Mean of value\n",
    "`mad` |\tMean absolute deviation\n",
    "`median`|\tmedian of values\n",
    "`min`\t |Minimum\n",
    "`max`\t |Maximum\n",
    "`mode`\t|Mode\n",
    "`abs`\t| Absolute Value\n",
    "`prod`\t| Product of values\n",
    "`std`\t |Unbiased standard deviation\n",
    "`var`\t |Unbiased variance\n",
    "`sem`\t |Unbiased standard error of the mean\n",
    "`skew`\t| Unbiased skewness (3rd moment)\n",
    "`kurt`\t| Unbiased kurtosis (4th moment)\n",
    "`quantile`\t| Sample quantile (value at %)\n",
    "`cumsum`\t| Cumulative sum\n",
    "`cumprod`| \tCumulative product\n",
    "`cummax`\t| Cumulative maximum\n",
    "`cummin`\t| Cumulative minimum\n",
    "`nunique`| number of unique elements\n",
    "`value_counts`| Counts of unique values\n",
    "`cov`| Calculate the covariance between columns\n",
    "`corr`| Calculate the correlation between columns"
   ]
  },
  {
   "cell_type": "markdown",
   "metadata": {},
   "source": [
    "Regarding categorizing median_income into two categories based on quartiles, you can do it as follows:"
   ]
  },
  {
   "cell_type": "code",
   "execution_count": null,
   "metadata": {},
   "outputs": [],
   "source": [
    "# Calculate quartile boundaries\n",
    "q30 = np.percentile(df['median_income'], 30)\n",
    "q70 = np.percentile(df['median_income'], 70)\n",
    "\n",
    "df['famlev'] = pd.cut(df['median_income'], bins=[0, q30, q70, np.inf], labels=['L', 'M', 'H'])\n"
   ]
  },
  {
   "cell_type": "markdown",
   "metadata": {},
   "source": [
    "In this case, we utilized `.loc`, where we specify column labels to retrieve columns instead of using positional indices. Note that you can also use double square brackets `[[]]` to apply different conditions to the data.\n"
   ]
  },
  {
   "cell_type": "code",
   "execution_count": null,
   "metadata": {},
   "outputs": [],
   "source": [
    "CHD['median_house_value'][CHD['famlev'] == 'M'].mean()\n"
   ]
  },
  {
   "cell_type": "markdown",
   "metadata": {
    "notebookRunGroups": {
     "groupValue": "2"
    }
   },
   "source": [
    "Indeed, you can use `np.where` to select or search for data in a NumPy array based on specific conditions. It evaluates the conditions and returns the data that satisfy those conditions. This can be a valuable approach for more complex and custom data selection requirements.\n"
   ]
  },
  {
   "cell_type": "code",
   "execution_count": null,
   "metadata": {},
   "outputs": [],
   "source": [
    "CHD_R = CHD[['total_rooms', 'total_bedrooms']]\n",
    "CHD_R.where(CHD.total_rooms < 1000)\n",
    "CHD_R.where(CHD.total_rooms < 1000, 0)\n",
    "con = CHD_R < 1000\n",
    "CHD_R.where(con, -999)\n"
   ]
  },
  {
   "cell_type": "markdown",
   "metadata": {},
   "source": [
    "If you want to select specific elements in data-frame, use `.isin()`,  the following select element where 'famlev=M'\n",
    "\n",
    "\n",
    "If you want to select specific elements in a DataFrame based on a condition like 'famlev=M', you can use the `.isin()` method. However, it's worth noting that `.isin()` is typically used to filter rows rather than individual elements. To filter rows where a specific column matches a certain value, you can do something like this:\n"
   ]
  },
  {
   "cell_type": "code",
   "execution_count": null,
   "metadata": {},
   "outputs": [],
   "source": [
    "import numpy as np \n",
    "np.where(CHD.loc[:,'famlev'].isin(['M']))"
   ]
  },
  {
   "cell_type": "markdown",
   "metadata": {},
   "source": [
    "This code filters rows in the DataFrame where the 'famlev' column has the value 'M'."
   ]
  },
  {
   "cell_type": "markdown",
   "metadata": {},
   "source": [
    "You can use np.where to create a new column in a DataFrame based on specified conditions. Here's an example of how you can do that:"
   ]
  },
  {
   "cell_type": "code",
   "execution_count": null,
   "metadata": {},
   "outputs": [],
   "source": [
    "CHD['size'] = np.where(CHD.total_rooms < 1000, 'small', 'big')"
   ]
  },
  {
   "cell_type": "markdown",
   "metadata": {},
   "source": [
    "In this example, a new column 'size' is created where the values are determined based on the condition CHD.total_rooms < 1000. If the condition is true, it assigns 'small' to the 'size' column; otherwise, it assigns 'big'. You can adjust the condition and the values as needed for your specific use case."
   ]
  },
  {
   "cell_type": "markdown",
   "metadata": {},
   "source": [
    "You can perform simple operations on a DataFrame using list comprehension as well."
   ]
  },
  {
   "cell_type": "code",
   "execution_count": null,
   "metadata": {},
   "outputs": [],
   "source": [
    "CHD['size']=['small' if x<100  else 'big'  for x in CHD['total_rooms']]"
   ]
  },
  {
   "cell_type": "markdown",
   "metadata": {},
   "source": [
    "To remove rows and columns from a DataFrame, you can use the `.drop` method."
   ]
  },
  {
   "cell_type": "code",
   "execution_count": null,
   "metadata": {},
   "outputs": [],
   "source": [
    "CHD.drop([0,5], axis=0)\n",
    "CHD.drop('longitude',axis=1, inplace=True)"
   ]
  },
  {
   "cell_type": "markdown",
   "metadata": {},
   "source": [
    "Note that using the argument `inplace=True` applies the change to the original data directly."
   ]
  },
  {
   "cell_type": "markdown",
   "metadata": {},
   "source": [
    "To replace values in a DataFrame, you can use the `df.replace()` method."
   ]
  },
  {
   "cell_type": "code",
   "execution_count": null,
   "metadata": {},
   "outputs": [],
   "source": [
    "CHD['famlev'].replace('L','Low').replace('M','Middle').replace('H','High')"
   ]
  },
  {
   "cell_type": "markdown",
   "metadata": {},
   "source": [
    "You can sort your data by a specific column using:"
   ]
  },
  {
   "cell_type": "code",
   "execution_count": null,
   "metadata": {},
   "outputs": [],
   "source": [
    "CHD.sort_values(by='size')"
   ]
  },
  {
   "cell_type": "markdown",
   "metadata": {},
   "source": [
    "\n",
    "Don't forget to save the data after making changes or sorting it: "
   ]
  },
  {
   "cell_type": "code",
   "execution_count": null,
   "metadata": {},
   "outputs": [],
   "source": [
    "CHD.to_csv(\"/Volumes/F/progwr/python/python_tech/analysis_data_using_python/data/CHD_test.csv\",\n",
    "           index=False, encoding='utf8')"
   ]
  },
  {
   "cell_type": "markdown",
   "metadata": {},
   "source": [
    "[Contents](../..) \\| [Previous (3) Manipulating data frame](../03-manipulating-data-frame) \\| [Next (4) Summarizing](../04-summarizing)\n",
    "---------\n",
    "[Exercise 03-Manipulating data-frame](../../exercises/03-exercise)"
   ]
  }
 ],
 "metadata": {
  "anaconda-cloud": {},
  "kernelspec": {
   "display_name": "Python 3.9.13 64-bit",
   "language": "python",
   "name": "python3"
  },
  "language_info": {
   "codemirror_mode": {
    "name": "ipython",
    "version": 3
   },
   "file_extension": ".py",
   "mimetype": "text/x-python",
   "name": "python",
   "nbconvert_exporter": "python",
   "pygments_lexer": "ipython3",
   "version": "3.9.13"
  },
  "vscode": {
   "interpreter": {
    "hash": "397704579725e15f5c7cb49fe5f0341eb7531c82d19f2c29d197e8b64ab5776b"
   }
  }
 },
 "nbformat": 4,
 "nbformat_minor": 1
}
