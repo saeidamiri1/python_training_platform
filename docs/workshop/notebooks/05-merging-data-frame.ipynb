{
 "cells": [
  {
   "cell_type": "markdown",
   "metadata": {},
   "source": [
    "# Data Analysis using Python\n",
    "## 05-Merging data frame\n",
    "\n",
    "Objectives\n",
    "* Combine data from multiple files into a single DataFrame using `concat` and `merge`. \n",
    "* Combine two DataFrames using a unique ID found in both DataFrames. \n",
    "\n",
    "Contents: \n",
    "* Merge\n",
    "* Concat\n"
   ]
  },
  {
   "cell_type": "markdown",
   "metadata": {},
   "source": [
    "### Merging\n",
    "To merge different datasets, various scenarios can be explored, as illustrated in the following diagram.\n",
    "\n",
    "![image](../figs/merging.png)\n",
    "\n",
    "According to the figure presented, we can state <br />\n",
    "Left: Collects all data from the left dataframe and common data from both the left and right dataframes.<br />\n",
    "Right: Collects all data from the right dataframe and common data from both the left and right dataframes.<br />\n",
    "Inner: Collects only the common data from both the left and right dataframes, essentially performing an intersection operation. <br />\n",
    "Outer: Collects all data from both the left and right dataframes, including the common data. <br />\n"
   ]
  },
  {
   "cell_type": "markdown",
   "metadata": {},
   "source": [
    "Pandas is very useful for merging datasets. To merge data, consider the following datasets where 'id1' and 'id2' include the data IDs."
   ]
  },
  {
   "cell_type": "code",
   "execution_count": 3,
   "metadata": {},
   "outputs": [],
   "source": [
    "import pandas as pd\n",
    "raw_data = {'id1': range(4),'income': [10,12,14,16]}\n",
    "dat1 =pd.DataFrame(raw_data, columns = ['id1', 'income'])\n",
    "\n",
    "raw_data = {'id2': range(6),'pay': [9,11,13,15,17,19]}\n",
    "dat2 =pd.DataFrame(raw_data, columns = ['id2', 'pay'])"
   ]
  },
  {
   "cell_type": "markdown",
   "metadata": {},
   "source": [
    "Obviously, the ID variables may not be the same, and they can be compared using:"
   ]
  },
  {
   "cell_type": "code",
   "execution_count": null,
   "metadata": {},
   "outputs": [],
   "source": [
    "dat1['id1'].isin(dat2['id2']).value_counts()\n",
    "dat2['id2'].isin(dat1['id1']).value_counts()"
   ]
  },
  {
   "cell_type": "markdown",
   "metadata": {},
   "source": [
    "`pd.merge` can merge different dataframes, and the merging is typically done based on the identities of the left dataset. If there is no match in the right dataframe, Python adds `NaN`` values for the missing data."
   ]
  },
  {
   "cell_type": "code",
   "execution_count": null,
   "metadata": {},
   "outputs": [],
   "source": [
    "result = pd.merge(dat1, dat2, left_on='id1', right_on='id2', how='left')"
   ]
  },
  {
   "cell_type": "markdown",
   "metadata": {},
   "source": [
    "On the contrary, you can treat the right dataset as the matching one, and if there's no match in the left dataset, Python adds `NaN` values accordingly."
   ]
  },
  {
   "cell_type": "code",
   "execution_count": null,
   "metadata": {},
   "outputs": [],
   "source": [
    "result = pd.merge(dat1, dat2, left_on='id1', right_on='id2', how='right')"
   ]
  },
  {
   "cell_type": "markdown",
   "metadata": {},
   "source": [
    "Since the IDs are not the same, one can perform merging based on the intersection of the IDs."
   ]
  },
  {
   "cell_type": "code",
   "execution_count": null,
   "metadata": {},
   "outputs": [],
   "source": [
    "result = pd.merge(dat1, dat2, left_on='id1', right_on='id2',how='inner')"
   ]
  },
  {
   "cell_type": "markdown",
   "metadata": {},
   "source": [
    "Merging can also be done based on the union of the IDs."
   ]
  },
  {
   "cell_type": "code",
   "execution_count": null,
   "metadata": {},
   "outputs": [],
   "source": [
    "result = pd.merge(dat1, dat2, left_on='id1', right_on='id2',how='outer')"
   ]
  },
  {
   "cell_type": "markdown",
   "metadata": {},
   "source": [
    "If the names of ID variables are the same in both datasets, you can use `on=id_name` instead of `left_on=` and `right_on=`. If you want to identify where the elements in rows are from, add the argument `indicator=True`, then a new column named `_merge` will be added to the merged data, which shows its origin.\n"
   ]
  },
  {
   "cell_type": "code",
   "execution_count": null,
   "metadata": {},
   "outputs": [],
   "source": [
    "result = pd.merge(dat1, dat2, left_on='id1', right_on='id2',  how='outer', indicator=True)"
   ]
  },
  {
   "cell_type": "markdown",
   "metadata": {},
   "source": [
    "### Concating\n",
    "To concatenate datasets row-wise, use `concat`."
   ]
  },
  {
   "cell_type": "code",
   "execution_count": null,
   "metadata": {},
   "outputs": [],
   "source": [
    "result = pd.concat([dat1, dat2],axis=1)"
   ]
  },
  {
   "cell_type": "markdown",
   "metadata": {},
   "source": [
    "[Contents](../..) \\| [Previous(4) summarizing](../04-summarizing) \\| [Next (6) Plot](../06-visualization)\n",
    "---------\n",
    "[Exercise 05-Merging data frame](../../exercises/05-exercise)"
   ]
  }
 ],
 "metadata": {
  "anaconda-cloud": {},
  "kernelspec": {
   "display_name": "Python 3.9.13 64-bit",
   "language": "python",
   "name": "python3"
  },
  "language_info": {
   "codemirror_mode": {
    "name": "ipython",
    "version": 3
   },
   "file_extension": ".py",
   "mimetype": "text/x-python",
   "name": "python",
   "nbconvert_exporter": "python",
   "pygments_lexer": "ipython3",
   "version": "3.11.5"
  },
  "vscode": {
   "interpreter": {
    "hash": "397704579725e15f5c7cb49fe5f0341eb7531c82d19f2c29d197e8b64ab5776b"
   }
  }
 },
 "nbformat": 4,
 "nbformat_minor": 1
}
