{
 "cells": [
  {
   "cell_type": "markdown",
   "metadata": {},
   "source": [
    "# Data Analysis using Python\n",
    "## 02-Working with Data\n",
    "\n",
    "Objectives:\n",
    "* Creating dataframe\n",
    "* loading Dataframe using  `read_csv`\n",
    "* Describing dataframe\n",
    "* Saving dataframe\n",
    "\n",
    "Contents: <br/>\n",
    "- Panda\n",
    "- Data-frame\n",
    "- Adding new column\n",
    "- Loading CSV data\n",
    "- Generating summary\n",
    "- Loading xls\n"
   ]
  },
  {
   "cell_type": "markdown",
   "metadata": {},
   "source": [
    "### Panda\n",
    "Pandas stands out as one of the finest Python modules for working with datasets. It is built on top of the widely-used NumPy library and offers an array of highly valuable functions for efficient data manipulation. The succinct abbreviation for importing this library is:"
   ]
  },
  {
   "cell_type": "code",
   "execution_count": 3,
   "metadata": {},
   "outputs": [],
   "source": [
    "import pandas as pd"
   ]
  },
  {
   "cell_type": "markdown",
   "metadata": {},
   "source": [
    "### Data-frame\n",
    "Pandas DataFrames are an incredibly useful format for working with datasets. They represent a two-dimensional, size-mutable, and potentially heterogeneous tabular data structure with labeled axes for both rows and columns. The following code demonstrates how to create a DataFrame from a dictionary:"
   ]
  },
  {
   "cell_type": "code",
   "execution_count": 24,
   "metadata": {},
   "outputs": [
    {
     "data": {
      "text/html": [
       "<div>\n",
       "<style scoped>\n",
       "    .dataframe tbody tr th:only-of-type {\n",
       "        vertical-align: middle;\n",
       "    }\n",
       "\n",
       "    .dataframe tbody tr th {\n",
       "        vertical-align: top;\n",
       "    }\n",
       "\n",
       "    .dataframe thead th {\n",
       "        text-align: right;\n",
       "    }\n",
       "</style>\n",
       "<table border=\"1\" class=\"dataframe\">\n",
       "  <thead>\n",
       "    <tr style=\"text-align: right;\">\n",
       "      <th></th>\n",
       "      <th>A</th>\n",
       "      <th>B</th>\n",
       "    </tr>\n",
       "  </thead>\n",
       "  <tbody>\n",
       "    <tr>\n",
       "      <th>A</th>\n",
       "      <td>1</td>\n",
       "      <td>2</td>\n",
       "    </tr>\n",
       "    <tr>\n",
       "      <th>Z</th>\n",
       "      <td>2</td>\n",
       "      <td>3</td>\n",
       "    </tr>\n",
       "    <tr>\n",
       "      <th>C</th>\n",
       "      <td>0</td>\n",
       "      <td>4</td>\n",
       "    </tr>\n",
       "  </tbody>\n",
       "</table>\n",
       "</div>"
      ],
      "text/plain": [
       "   A  B\n",
       "A  1  2\n",
       "Z  2  3\n",
       "C  0  4"
      ]
     },
     "execution_count": 24,
     "metadata": {},
     "output_type": "execute_result"
    }
   ],
   "source": [
    "var={\"A\": [1,2,0], \"B\": [2,3,4]}\n",
    "df= pd.DataFrame(data=var,index=['A', 'Z', 'C'])\n",
    "df"
   ]
  },
  {
   "cell_type": "markdown",
   "metadata": {},
   "source": [
    "Changing the label column is a straightforward task:"
   ]
  },
  {
   "cell_type": "code",
   "execution_count": 25,
   "metadata": {},
   "outputs": [],
   "source": [
    "raw_data = {'population': [ 1015.0, 1129.0, 333.0,  515.0],'median_income': [ 1.5, 1.8,  1.7,  3.2]}\n",
    "df=pd.DataFrame(raw_data, columns = ['population', 'median_income'])"
   ]
  },
  {
   "cell_type": "markdown",
   "metadata": {},
   "source": [
    "To create an empty DataFrame, execute the following code:"
   ]
  },
  {
   "cell_type": "code",
   "execution_count": 26,
   "metadata": {},
   "outputs": [],
   "source": [
    "df1=pd.DataFrame(columns = ['population', 'median_income'])\n",
    "df2=pd.DataFrame()"
   ]
  },
  {
   "cell_type": "markdown",
   "metadata": {},
   "source": [
    "### Adding new column\n",
    "Adding a column to a DataFrame is a straightforward operation."
   ]
  },
  {
   "cell_type": "code",
   "execution_count": 27,
   "metadata": {},
   "outputs": [],
   "source": [
    "df0=pd.DataFrame([38,40,25,33])\n",
    "df['Ave_hour']=df0"
   ]
  },
  {
   "cell_type": "markdown",
   "metadata": {},
   "source": [
    "You can also add new columns to a DataFrame using the `assign()` method. New columns can be generated using functions, as shown below:"
   ]
  },
  {
   "cell_type": "code",
   "execution_count": null,
   "metadata": {},
   "outputs": [],
   "source": [
    "df=df.assign(Ave_hour=df0)\n",
    "df=df.assign(PI1=lambda x: x['population']*x['median_income'],PI2=df['population']/df['median_income'] )"
   ]
  },
  {
   "cell_type": "markdown",
   "metadata": {},
   "source": [
    "You can rename a column in a DataFrame using the `rename()` method."
   ]
  },
  {
   "cell_type": "code",
   "execution_count": null,
   "metadata": {
    "notebookRunGroups": {
     "groupValue": ""
    }
   },
   "outputs": [],
   "source": [
    "df.columns = ['population1', 'median_income', 'date2', 'Ave_hour','PI1','PI2']\n",
    "df=df.rename(columns={'population1': 'pop', 'median_income': 'med_income'},inplace=True)\n",
    "df"
   ]
  },
  {
   "cell_type": "markdown",
   "metadata": {
    "notebookRunGroups": {
     "groupValue": ""
    }
   },
   "source": [
    "In certain situations, it may be more appropriate to use the data collection time as the index. The script below demonstrates how to convert the data to a time format and then set it as the index."
   ]
  },
  {
   "cell_type": "code",
   "execution_count": null,
   "metadata": {},
   "outputs": [],
   "source": [
    "df = df.set_index(pd.to_datetime(['2019-04-01','2019-05-04','2019-06-01','2019-07-02']))"
   ]
  },
  {
   "cell_type": "markdown",
   "metadata": {},
   "source": [
    "You can utilize the `to_datetime` function to ensure that the data is stored in a time format, making it flexible for conversion into various time-related attributes such as year, weekday, and more."
   ]
  },
  {
   "cell_type": "code",
   "execution_count": null,
   "metadata": {},
   "outputs": [],
   "source": [
    "df['date'] = pd.to_datetime(['2019-04-01', '2019-05-04', '2019-06-01', '2019-07-02'])\n",
    "df['date'].dt.weekday\n",
    "df1['date'].dt.year"
   ]
  },
  {
   "cell_type": "markdown",
   "metadata": {},
   "source": [
    "Next, we should save the data. One of the best formats for storing datasets is in CSV format. The following script saves the data as a CSV file without including row numbers and column names by setting `index=False`."
   ]
  },
  {
   "cell_type": "code",
   "execution_count": null,
   "metadata": {},
   "outputs": [],
   "source": [
    "df.to_csv(\"test_df.csv\", index=False, encoding='utf8')\n",
    "df.to_excel(\"test_df.xlsx\")"
   ]
  },
  {
   "cell_type": "markdown",
   "metadata": {},
   "source": [
    "### Loading CSV data\n",
    "The `pd.read_csv` function is used to import data saved in CSV format. The following example demonstrates how to import a CSV file into Python, using California housing data as an example:"
   ]
  },
  {
   "cell_type": "code",
   "execution_count": 4,
   "metadata": {},
   "outputs": [
    {
     "data": {
      "text/html": [
       "<div>\n",
       "<style scoped>\n",
       "    .dataframe tbody tr th:only-of-type {\n",
       "        vertical-align: middle;\n",
       "    }\n",
       "\n",
       "    .dataframe tbody tr th {\n",
       "        vertical-align: top;\n",
       "    }\n",
       "\n",
       "    .dataframe thead th {\n",
       "        text-align: right;\n",
       "    }\n",
       "</style>\n",
       "<table border=\"1\" class=\"dataframe\">\n",
       "  <thead>\n",
       "    <tr style=\"text-align: right;\">\n",
       "      <th></th>\n",
       "      <th>longitude</th>\n",
       "      <th>latitude</th>\n",
       "      <th>housing_median_age</th>\n",
       "      <th>total_rooms</th>\n",
       "      <th>total_bedrooms</th>\n",
       "      <th>population</th>\n",
       "      <th>households</th>\n",
       "      <th>median_income</th>\n",
       "      <th>median_house_value</th>\n",
       "    </tr>\n",
       "  </thead>\n",
       "  <tbody>\n",
       "    <tr>\n",
       "      <th>0</th>\n",
       "      <td>-114.31</td>\n",
       "      <td>34.19</td>\n",
       "      <td>15</td>\n",
       "      <td>5612</td>\n",
       "      <td>1283</td>\n",
       "      <td>1015</td>\n",
       "      <td>472</td>\n",
       "      <td>1.4936</td>\n",
       "      <td>66900</td>\n",
       "    </tr>\n",
       "    <tr>\n",
       "      <th>1</th>\n",
       "      <td>-114.47</td>\n",
       "      <td>34.40</td>\n",
       "      <td>19</td>\n",
       "      <td>7650</td>\n",
       "      <td>1901</td>\n",
       "      <td>1129</td>\n",
       "      <td>463</td>\n",
       "      <td>1.8200</td>\n",
       "      <td>80100</td>\n",
       "    </tr>\n",
       "    <tr>\n",
       "      <th>2</th>\n",
       "      <td>-114.56</td>\n",
       "      <td>33.69</td>\n",
       "      <td>17</td>\n",
       "      <td>720</td>\n",
       "      <td>174</td>\n",
       "      <td>333</td>\n",
       "      <td>117</td>\n",
       "      <td>1.6509</td>\n",
       "      <td>85700</td>\n",
       "    </tr>\n",
       "    <tr>\n",
       "      <th>3</th>\n",
       "      <td>-114.57</td>\n",
       "      <td>33.64</td>\n",
       "      <td>14</td>\n",
       "      <td>1501</td>\n",
       "      <td>337</td>\n",
       "      <td>515</td>\n",
       "      <td>226</td>\n",
       "      <td>3.1917</td>\n",
       "      <td>73400</td>\n",
       "    </tr>\n",
       "    <tr>\n",
       "      <th>4</th>\n",
       "      <td>-114.57</td>\n",
       "      <td>33.57</td>\n",
       "      <td>20</td>\n",
       "      <td>1454</td>\n",
       "      <td>326</td>\n",
       "      <td>624</td>\n",
       "      <td>262</td>\n",
       "      <td>1.9250</td>\n",
       "      <td>65500</td>\n",
       "    </tr>\n",
       "  </tbody>\n",
       "</table>\n",
       "</div>"
      ],
      "text/plain": [
       "   longitude  latitude  housing_median_age  total_rooms  total_bedrooms  \\\n",
       "0    -114.31     34.19                  15         5612            1283   \n",
       "1    -114.47     34.40                  19         7650            1901   \n",
       "2    -114.56     33.69                  17          720             174   \n",
       "3    -114.57     33.64                  14         1501             337   \n",
       "4    -114.57     33.57                  20         1454             326   \n",
       "\n",
       "   population  households  median_income  median_house_value  \n",
       "0        1015         472         1.4936               66900  \n",
       "1        1129         463         1.8200               80100  \n",
       "2         333         117         1.6509               85700  \n",
       "3         515         226         3.1917               73400  \n",
       "4         624         262         1.9250               65500  "
      ]
     },
     "execution_count": 4,
     "metadata": {},
     "output_type": "execute_result"
    }
   ],
   "source": [
    "source = \"../data/CHD.csv\"\n",
    "CHD = pd.read_csv(source, sep=\",\")\n",
    "CHD.head()  # Displays the first several rows of CHD"
   ]
  },
  {
   "cell_type": "markdown",
   "metadata": {},
   "source": [
    "A DataFrame can indeed store data of different types in its columns. Here are some common data types you can specify:\n",
    "\n",
    "object: Represents a mix of different data types. <br>\n",
    "int64: Stores integer numbers.<br>\n",
    "float64: Handles floating-point numbers.<br>\n",
    "bool: Stores True/False values.<br>\n",
    "datetime64: Manages date and time values.<br>\n",
    "category: Represents a finite number of possible values.<br>\n",
    "You can define the data type of a column in a DataFrame using various methods, including when reading in data or explicitly specifying the dtype argument.\n",
    "\n",
    "To check the data types of the columns in a DataFrame, you can use the dtypes attribute, as shown in the following code:"
   ]
  },
  {
   "cell_type": "code",
   "execution_count": 5,
   "metadata": {},
   "outputs": [
    {
     "data": {
      "text/plain": [
       "longitude             float64\n",
       "latitude              float64\n",
       "housing_median_age      int64\n",
       "total_rooms             int64\n",
       "total_bedrooms          int64\n",
       "population              int64\n",
       "households              int64\n",
       "median_income         float64\n",
       "median_house_value      int64\n",
       "dtype: object"
      ]
     },
     "execution_count": 5,
     "metadata": {},
     "output_type": "execute_result"
    }
   ],
   "source": [
    "CHD.dtypes  # show the type of variables"
   ]
  },
  {
   "cell_type": "markdown",
   "metadata": {},
   "source": [
    "### Generating summary\n",
    "To examine the types, information, and summary statistics of variables in a DataFrame, you can use the following methods:\n",
    "\n",
    "`df.dtypes`: This attribute displays the data types of each column in the DataFrame.<br>\n",
    "`df.describe()`: This method provides summary statistics for numeric columns in the DataFrame, including count, mean, standard deviation, minimum, and maximum values. <br>\n",
    "`df.info()`: This method gives a concise summary of the DataFrame, including the number of non-null values in each column and the data types. It also provides information about memory usage. <br>\n",
    "\n"
   ]
  },
  {
   "cell_type": "code",
   "execution_count": null,
   "metadata": {},
   "outputs": [],
   "source": [
    "\n",
    "CHD.shape # Diplay the dimension\n",
    "CHD.columns  # Return name of columns\n",
    "CHD.describe()  # generate summary\n",
    "CHD.info() \n",
    "CHD.head() # Top rows\n",
    "CHD.tail() # Bottom rows"
   ]
  },
  {
   "cell_type": "markdown",
   "metadata": {},
   "source": [
    "o compute various statistics per column in a DataFrame, you can use different aggregation functions depending on your specific requirements. Here's how you can compute some common statistics using Pandas:"
   ]
  },
  {
   "cell_type": "code",
   "execution_count": null,
   "metadata": {},
   "outputs": [],
   "source": [
    "print(\"Count of median_house_value:    \", CHD['median_house_value'].count())\n",
    "print(\"Mean of median_house_value:     \", CHD['median_house_value'].mean())\n",
    "print(\"Std of median_house_value:      \", CHD['median_house_value'].std())\n",
    "print(\"Min of median_house_value:      \", CHD['median_house_value'].min())\n",
    "print(\"Max of median_house_value:      \", CHD['median_house_value'].max())"
   ]
  },
  {
   "cell_type": "markdown",
   "metadata": {},
   "source": [
    "You can use these functions individually to compute the desired statistics for each column in your DataFrame based on your analysis needs."
   ]
  },
  {
   "cell_type": "markdown",
   "metadata": {},
   "source": [
    "### Loading xls\n",
    "To read Excel files (.xls format) in Python, you can use the _xlrd_ package, which is a popular library for working with Excel files. However, newer Excel formats (.xlsx), the _openpyxl_ library was more commonly used. You use `pd.ExcelFile`, see below:\n"
   ]
  },
  {
   "cell_type": "code",
   "execution_count": 40,
   "metadata": {},
   "outputs": [
    {
     "data": {
      "text/html": [
       "<div>\n",
       "<style scoped>\n",
       "    .dataframe tbody tr th:only-of-type {\n",
       "        vertical-align: middle;\n",
       "    }\n",
       "\n",
       "    .dataframe tbody tr th {\n",
       "        vertical-align: top;\n",
       "    }\n",
       "\n",
       "    .dataframe thead th {\n",
       "        text-align: right;\n",
       "    }\n",
       "</style>\n",
       "<table border=\"1\" class=\"dataframe\">\n",
       "  <thead>\n",
       "    <tr style=\"text-align: right;\">\n",
       "      <th></th>\n",
       "      <th>PassengerId</th>\n",
       "      <th>Name</th>\n",
       "      <th>Sex</th>\n",
       "      <th>Age</th>\n",
       "    </tr>\n",
       "  </thead>\n",
       "  <tbody>\n",
       "    <tr>\n",
       "      <th>0</th>\n",
       "      <td>1</td>\n",
       "      <td>Braund, Mr. Owen Harris</td>\n",
       "      <td>male</td>\n",
       "      <td>22.0</td>\n",
       "    </tr>\n",
       "    <tr>\n",
       "      <th>1</th>\n",
       "      <td>2</td>\n",
       "      <td>Cumings, Mrs. John Bradley (Florence Briggs Th...</td>\n",
       "      <td>female</td>\n",
       "      <td>38.0</td>\n",
       "    </tr>\n",
       "    <tr>\n",
       "      <th>2</th>\n",
       "      <td>3</td>\n",
       "      <td>Heikkinen, Miss. Laina</td>\n",
       "      <td>female</td>\n",
       "      <td>26.0</td>\n",
       "    </tr>\n",
       "    <tr>\n",
       "      <th>3</th>\n",
       "      <td>4</td>\n",
       "      <td>Futrelle, Mrs. Jacques Heath (Lily May Peel)</td>\n",
       "      <td>female</td>\n",
       "      <td>35.0</td>\n",
       "    </tr>\n",
       "    <tr>\n",
       "      <th>4</th>\n",
       "      <td>5</td>\n",
       "      <td>Allen, Mr. William Henry</td>\n",
       "      <td>male</td>\n",
       "      <td>35.0</td>\n",
       "    </tr>\n",
       "    <tr>\n",
       "      <th>...</th>\n",
       "      <td>...</td>\n",
       "      <td>...</td>\n",
       "      <td>...</td>\n",
       "      <td>...</td>\n",
       "    </tr>\n",
       "    <tr>\n",
       "      <th>886</th>\n",
       "      <td>887</td>\n",
       "      <td>Montvila, Rev. Juozas</td>\n",
       "      <td>male</td>\n",
       "      <td>27.0</td>\n",
       "    </tr>\n",
       "    <tr>\n",
       "      <th>887</th>\n",
       "      <td>888</td>\n",
       "      <td>Graham, Miss. Margaret Edith</td>\n",
       "      <td>female</td>\n",
       "      <td>19.0</td>\n",
       "    </tr>\n",
       "    <tr>\n",
       "      <th>888</th>\n",
       "      <td>889</td>\n",
       "      <td>Johnston, Miss. Catherine Helen \"Carrie\"</td>\n",
       "      <td>female</td>\n",
       "      <td>NaN</td>\n",
       "    </tr>\n",
       "    <tr>\n",
       "      <th>889</th>\n",
       "      <td>890</td>\n",
       "      <td>Behr, Mr. Karl Howell</td>\n",
       "      <td>male</td>\n",
       "      <td>26.0</td>\n",
       "    </tr>\n",
       "    <tr>\n",
       "      <th>890</th>\n",
       "      <td>891</td>\n",
       "      <td>Dooley, Mr. Patrick</td>\n",
       "      <td>male</td>\n",
       "      <td>32.0</td>\n",
       "    </tr>\n",
       "  </tbody>\n",
       "</table>\n",
       "<p>891 rows × 4 columns</p>\n",
       "</div>"
      ],
      "text/plain": [
       "     PassengerId                                               Name     Sex  \\\n",
       "0              1                            Braund, Mr. Owen Harris    male   \n",
       "1              2  Cumings, Mrs. John Bradley (Florence Briggs Th...  female   \n",
       "2              3                             Heikkinen, Miss. Laina  female   \n",
       "3              4       Futrelle, Mrs. Jacques Heath (Lily May Peel)  female   \n",
       "4              5                           Allen, Mr. William Henry    male   \n",
       "..           ...                                                ...     ...   \n",
       "886          887                              Montvila, Rev. Juozas    male   \n",
       "887          888                       Graham, Miss. Margaret Edith  female   \n",
       "888          889           Johnston, Miss. Catherine Helen \"Carrie\"  female   \n",
       "889          890                              Behr, Mr. Karl Howell    male   \n",
       "890          891                                Dooley, Mr. Patrick    male   \n",
       "\n",
       "      Age  \n",
       "0    22.0  \n",
       "1    38.0  \n",
       "2    26.0  \n",
       "3    35.0  \n",
       "4    35.0  \n",
       "..    ...  \n",
       "886  27.0  \n",
       "887  19.0  \n",
       "888   NaN  \n",
       "889  26.0  \n",
       "890  32.0  \n",
       "\n",
       "[891 rows x 4 columns]"
      ]
     },
     "execution_count": 40,
     "metadata": {},
     "output_type": "execute_result"
    }
   ],
   "source": [
    "xls_book = pd.ExcelFile('../data/titianic.xlsx')\n",
    "xls_book\n",
    "dfs_xls_book = {sheet: xls_book.parse(sheet) for sheet in xls_book.sheet_names}\n",
    "dfs_xls_book['Sheet1']"
   ]
  },
  {
   "cell_type": "code",
   "execution_count": 41,
   "metadata": {},
   "outputs": [
    {
     "data": {
      "text/html": [
       "<div>\n",
       "<style scoped>\n",
       "    .dataframe tbody tr th:only-of-type {\n",
       "        vertical-align: middle;\n",
       "    }\n",
       "\n",
       "    .dataframe tbody tr th {\n",
       "        vertical-align: top;\n",
       "    }\n",
       "\n",
       "    .dataframe thead th {\n",
       "        text-align: right;\n",
       "    }\n",
       "</style>\n",
       "<table border=\"1\" class=\"dataframe\">\n",
       "  <thead>\n",
       "    <tr style=\"text-align: right;\">\n",
       "      <th></th>\n",
       "      <th>PassengerId</th>\n",
       "      <th>Name</th>\n",
       "      <th>Sex</th>\n",
       "      <th>Age</th>\n",
       "    </tr>\n",
       "  </thead>\n",
       "  <tbody>\n",
       "    <tr>\n",
       "      <th>0</th>\n",
       "      <td>1</td>\n",
       "      <td>Braund, Mr. Owen Harris</td>\n",
       "      <td>male</td>\n",
       "      <td>22.0</td>\n",
       "    </tr>\n",
       "    <tr>\n",
       "      <th>1</th>\n",
       "      <td>2</td>\n",
       "      <td>Cumings, Mrs. John Bradley (Florence Briggs Th...</td>\n",
       "      <td>female</td>\n",
       "      <td>38.0</td>\n",
       "    </tr>\n",
       "    <tr>\n",
       "      <th>2</th>\n",
       "      <td>3</td>\n",
       "      <td>Heikkinen, Miss. Laina</td>\n",
       "      <td>female</td>\n",
       "      <td>26.0</td>\n",
       "    </tr>\n",
       "    <tr>\n",
       "      <th>3</th>\n",
       "      <td>4</td>\n",
       "      <td>Futrelle, Mrs. Jacques Heath (Lily May Peel)</td>\n",
       "      <td>female</td>\n",
       "      <td>35.0</td>\n",
       "    </tr>\n",
       "    <tr>\n",
       "      <th>4</th>\n",
       "      <td>5</td>\n",
       "      <td>Allen, Mr. William Henry</td>\n",
       "      <td>male</td>\n",
       "      <td>35.0</td>\n",
       "    </tr>\n",
       "    <tr>\n",
       "      <th>...</th>\n",
       "      <td>...</td>\n",
       "      <td>...</td>\n",
       "      <td>...</td>\n",
       "      <td>...</td>\n",
       "    </tr>\n",
       "    <tr>\n",
       "      <th>886</th>\n",
       "      <td>887</td>\n",
       "      <td>Montvila, Rev. Juozas</td>\n",
       "      <td>male</td>\n",
       "      <td>27.0</td>\n",
       "    </tr>\n",
       "    <tr>\n",
       "      <th>887</th>\n",
       "      <td>888</td>\n",
       "      <td>Graham, Miss. Margaret Edith</td>\n",
       "      <td>female</td>\n",
       "      <td>19.0</td>\n",
       "    </tr>\n",
       "    <tr>\n",
       "      <th>888</th>\n",
       "      <td>889</td>\n",
       "      <td>Johnston, Miss. Catherine Helen \"Carrie\"</td>\n",
       "      <td>female</td>\n",
       "      <td>NaN</td>\n",
       "    </tr>\n",
       "    <tr>\n",
       "      <th>889</th>\n",
       "      <td>890</td>\n",
       "      <td>Behr, Mr. Karl Howell</td>\n",
       "      <td>male</td>\n",
       "      <td>26.0</td>\n",
       "    </tr>\n",
       "    <tr>\n",
       "      <th>890</th>\n",
       "      <td>891</td>\n",
       "      <td>Dooley, Mr. Patrick</td>\n",
       "      <td>male</td>\n",
       "      <td>32.0</td>\n",
       "    </tr>\n",
       "  </tbody>\n",
       "</table>\n",
       "<p>891 rows × 4 columns</p>\n",
       "</div>"
      ],
      "text/plain": [
       "     PassengerId                                               Name     Sex  \\\n",
       "0              1                            Braund, Mr. Owen Harris    male   \n",
       "1              2  Cumings, Mrs. John Bradley (Florence Briggs Th...  female   \n",
       "2              3                             Heikkinen, Miss. Laina  female   \n",
       "3              4       Futrelle, Mrs. Jacques Heath (Lily May Peel)  female   \n",
       "4              5                           Allen, Mr. William Henry    male   \n",
       "..           ...                                                ...     ...   \n",
       "886          887                              Montvila, Rev. Juozas    male   \n",
       "887          888                       Graham, Miss. Margaret Edith  female   \n",
       "888          889           Johnston, Miss. Catherine Helen \"Carrie\"  female   \n",
       "889          890                              Behr, Mr. Karl Howell    male   \n",
       "890          891                                Dooley, Mr. Patrick    male   \n",
       "\n",
       "      Age  \n",
       "0    22.0  \n",
       "1    38.0  \n",
       "2    26.0  \n",
       "3    35.0  \n",
       "4    35.0  \n",
       "..    ...  \n",
       "886  27.0  \n",
       "887  19.0  \n",
       "888   NaN  \n",
       "889  26.0  \n",
       "890  32.0  \n",
       "\n",
       "[891 rows x 4 columns]"
      ]
     },
     "execution_count": 41,
     "metadata": {},
     "output_type": "execute_result"
    }
   ],
   "source": [
    "xls_book = pd.ExcelFile('../data/titianic.xls')\n",
    "xls_book\n",
    "dfs_xls_book = {sheet: xls_book.parse(sheet) for sheet in xls_book.sheet_names}\n",
    "dfs_xls_book['Sheet1']"
   ]
  },
  {
   "cell_type": "markdown",
   "metadata": {},
   "source": [
    "[Contents](../...) \\| [Previous (1) starting with data](../01-starting-with-data) \\| [Next (3) manipulating data frame](../03-manipulating-data-frame)\n",
    "---------\n",
    "[Exercise 02-Working with Data](../../exercises/02-exercise)"
   ]
  }
 ],
 "metadata": {
  "kernelspec": {
   "display_name": "Python 3.9.13 64-bit",
   "language": "python",
   "name": "python3"
  },
  "language_info": {
   "codemirror_mode": {
    "name": "ipython",
    "version": 3
   },
   "file_extension": ".py",
   "mimetype": "text/x-python",
   "name": "python",
   "nbconvert_exporter": "python",
   "pygments_lexer": "ipython3",
   "version": "3.11.5"
  },
  "vscode": {
   "interpreter": {
    "hash": "397704579725e15f5c7cb49fe5f0341eb7531c82d19f2c29d197e8b64ab5776b"
   }
  }
 },
 "nbformat": 4,
 "nbformat_minor": 2
}
