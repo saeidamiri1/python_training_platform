{
 "cells": [
  {
   "cell_type": "markdown",
   "metadata": {},
   "source": [
    "# Data Analysis using Python\n",
    "## 01-Starting with Data\n",
    "\n",
    "Objectives:\n",
    "* Learn about module\n",
    "* Learn about data structures\n",
    "* How to use conditionals\n",
    "* How to write a function\n",
    "\n",
    "Content:\n",
    "- Ipython\n",
    "- Module\n",
    "- Data Structures\n",
    "- Conditionals\n",
    "- Function\n",
    "- Loops\n",
    "- List Comprehension"
   ]
  },
  {
   "cell_type": "markdown",
   "metadata": {},
   "source": [
    "### Ipython\n",
    "IPython is a platform that allows you to interactively work with your code and data. To access it, simply type `ipython` in the terminal. In Python, you can perform various mathematical calculations using basic operators, such as +(addition), -(subtraction), /(division), *(multiplication), % (modulo), and exponentiation (**):\n"
   ]
  },
  {
   "cell_type": "code",
   "execution_count": 1,
   "metadata": {},
   "outputs": [
    {
     "data": {
      "text/plain": [
       "8"
      ]
     },
     "execution_count": 1,
     "metadata": {},
     "output_type": "execute_result"
    }
   ],
   "source": [
    "2+3\n",
    "2-3\n",
    "2/3\n",
    "2*3\n",
    "2**3 # power"
   ]
  },
  {
   "cell_type": "markdown",
   "metadata": {},
   "source": [
    "Let us start with some foundational tasks: assigning both a text and a number to variables, and then verifying their data types"
   ]
  },
  {
   "cell_type": "code",
   "execution_count": null,
   "metadata": {},
   "outputs": [],
   "source": [
    "pi0=3.14\n",
    "pi1='approximate with two digits'\n",
    "print(pi0)\n",
    "print(pi1)\n",
    "print(type(pi0))\n",
    "print(type(pi1))"
   ]
  },
  {
   "cell_type": "markdown",
   "metadata": {},
   "source": [
    "Python supports integer, floats, complex, and boolen. "
   ]
  },
  {
   "cell_type": "code",
   "execution_count": null,
   "metadata": {},
   "outputs": [],
   "source": [
    "boolen1= (3 < 4) \n",
    "boolen2= (4 < 3)\n",
    "complex = 2 + 0.5j"
   ]
  },
  {
   "cell_type": "markdown",
   "metadata": {},
   "source": [
    "### Module\n",
    "A module (or library) is a collection of data, functions, and resources bundled for execution. After installing the library, you can seamlessly access its functions within Python by importing it.\n"
   ]
  },
  {
   "cell_type": "code",
   "execution_count": 1,
   "metadata": {},
   "outputs": [
    {
     "data": {
      "text/plain": [
       "'/home/sam/GITHUBS/python/Python-for-Data-Analysis/notes'"
      ]
     },
     "execution_count": 1,
     "metadata": {},
     "output_type": "execute_result"
    }
   ],
   "source": [
    "import os # import os module\n",
    "os.getcwd() # Run to see the current working directory, The Working directory is a directory that the python actively accesses to its objects, this directory is called the working directory"
   ]
  },
  {
   "cell_type": "markdown",
   "metadata": {},
   "source": [
    "Put the command in the help to get infor about the function\n",
    "\n",
    "To obtain information about a function, you can use the `help()` function in Python. Here's how you can use it:\n",
    "```\n",
    "# Use the help() function to get information about a function\n",
    "help(function_name)\n",
    "```\n",
    "Replace function_name with the name of the function you want to get information about. When you run this command, Python will provide documentation and details about the specified function, including its parameters, purpose, and usage."
   ]
  },
  {
   "cell_type": "code",
   "execution_count": 35,
   "metadata": {},
   "outputs": [
    {
     "name": "stdout",
     "output_type": "stream",
     "text": [
      "Help on built-in function getcwd in module posix:\n",
      "\n",
      "getcwd()\n",
      "    Return a unicode string representing the current working directory.\n",
      "\n"
     ]
    }
   ],
   "source": [
    "help(os.getcwd)"
   ]
  },
  {
   "cell_type": "markdown",
   "metadata": {},
   "source": [
    "The following code imports NumPy (NUMerical PYthon), which offers valuable array structures for data manipulation. It's common to use the alias \"np\" for NumPy to make it more convenient to work with:"
   ]
  },
  {
   "cell_type": "code",
   "execution_count": 1,
   "metadata": {},
   "outputs": [],
   "source": [
    "# Import NumPy with the alias \"np\"\n",
    "import numpy as np"
   ]
  },
  {
   "cell_type": "markdown",
   "metadata": {},
   "source": [
    "By importing NumPy this way, you can access its functions and classes using the shorter alias \"np\" throughout your code. For example, you can use np.array() to create arrays or np.mean() to calculate the mean of an array."
   ]
  },
  {
   "cell_type": "markdown",
   "metadata": {},
   "source": [
    "### Data Structures\n",
    "Python provides a versatile array of valuable data structures, including lists, sets, dictionaries, and the ability for programmers to define their own custom structures known as classes."
   ]
  },
  {
   "cell_type": "markdown",
   "metadata": {},
   "source": [
    "#### list\n",
    "A list is a sequence of values assigned to a variable. The individual values within a list are referred to as elements or items. \n"
   ]
  },
  {
   "cell_type": "code",
   "execution_count": 1,
   "metadata": {},
   "outputs": [],
   "source": [
    "weights=[20,15,19,21,16] \n",
    "type(weights)\n",
    "colors=['red','blue','green','black','white']\n",
    "colors\n",
    "a,*b,c=[1,2,3,4]"
   ]
  },
  {
   "cell_type": "markdown",
   "metadata": {},
   "source": [
    "You can access the values of a list by using square brackets."
   ]
  },
  {
   "cell_type": "code",
   "execution_count": null,
   "metadata": {},
   "outputs": [],
   "source": [
    "colors[1:3] # Slicing\n",
    "colors[:3] # The 0 can be left-out\n",
    "colors[0:3:2]\n",
    "colors[::-1] # Reversing with a negative step size\n",
    "colors[3:]\n",
    "colors[1]\n",
    "colors[-1] # Indexing from the end\n",
    "weights[1]=20\n",
    "weights.append(30) # Appending\n",
    "weights.sort() # Sort list\n",
    "weights.extend([30, 31]) # Extends two ellement to list \n",
    "weights.append([30,20]) # Extends a list to list\n",
    "weights.remove(30) # Remove the occurence of an element\n",
    "weights.index(21)\n",
    "colors + weights # Adding two list together \n"
   ]
  },
  {
   "cell_type": "markdown",
   "metadata": {},
   "source": [
    "#### Tuple\n",
    "Tuple is a sequence of objects like list, but it is immutable. To define tuple, Python uses the parenthesis:\n",
    "\n",
    "\n",
    "A tuple is a sequence of objects similar to a list, but unlike a list, it is immutable, meaning its elements cannot be changed after creation. To define a tuple in Python, you use parentheses ():\n",
    "\n",
    "python\n",
    "Copy code\n",
    "my_tuple = (1, 2, 3, \"hello\")\n",
    "In the example above, my_tuple is defined as a tuple containing integers and a string. Once a tuple is created, you cannot modify its elements. This immutability is the key distinction between tuples and lists in Python.\n"
   ]
  },
  {
   "cell_type": "code",
   "execution_count": null,
   "metadata": {},
   "outputs": [],
   "source": [
    "my_tuple = (1,2,'red', 'blue', 'green', 'black', 'white')\n",
    "type(my_tuple)\n",
    "my_tuple[1:3]"
   ]
  },
  {
   "cell_type": "markdown",
   "metadata": {},
   "source": [
    "In the example above, my_tuple is defined as a tuple containing integers and a string. Once a tuple is created, you cannot modify its elements. This immutability is the key distinction between tuples and lists in Python.\n"
   ]
  },
  {
   "cell_type": "markdown",
   "metadata": {},
   "source": [
    "#### Dictionary\n",
    "Dictionary is a generalized form of list, unlike the list its indices can be any type of values. A dictionary maps a set of objects (keys) to another set of objects (values).\n",
    "\n",
    "Dictionary includes key and items, the key is actually indices and item is the values. A Python dictionary is a mapping of unique keys to values. Use the curly brackets to construct the dictionary, separate the key and value with colons (:) and with commas (,)between each pair. Keys must be quoted. We can print out the dictionary by printing the reference to it.\n",
    "\n",
    "\n",
    "\n",
    "A dictionary in Python is a generalized form of a list where the indices, known as keys, can be of any data type. A dictionary maps a set of keys to their corresponding values.\n",
    "\n",
    "In Python, a dictionary consists of key-value pairs enclosed in curly braces {}. Each key is separated from its associated value by a colon : and the key-value pairs are separated by commas ,. Keys are typically enclosed in quotes (either single or double), especially if they are strings. You can print a dictionary by referencing it. Here's an example:"
   ]
  },
  {
   "cell_type": "code",
   "execution_count": 1,
   "metadata": {},
   "outputs": [
    {
     "data": {
      "text/plain": [
       "4"
      ]
     },
     "execution_count": 1,
     "metadata": {},
     "output_type": "execute_result"
    }
   ],
   "source": [
    "my_dict = {\n",
    "    'name': 'Ryan',\n",
    "    'age': 4,\n",
    "    'sex': 'M'\n",
    "}\n",
    "\n",
    "my_dict.values()\n",
    "my_dict.keys()\n",
    "my_dict.items()\n",
    "my_dict['name']\n",
    "my_dict['age']\n"
   ]
  },
  {
   "cell_type": "markdown",
   "metadata": {},
   "source": [
    "In this example, `my_dict`` is a dictionary with keys \"name,\" \"age,\" and \"sex\", each associated with respective values. The values are accessed using the keys. When printed, it would display the contents of the dictionary."
   ]
  },
  {
   "cell_type": "markdown",
   "metadata": {},
   "source": [
    "#### n-dimensional array\n",
    "The NumPy has a very useful array data structure that called ndarray, which is short for n-dimensional array. The following gives an one dinsion array of list. "
   ]
  },
  {
   "cell_type": "code",
   "execution_count": null,
   "metadata": {},
   "outputs": [],
   "source": [
    "a = [1., 2., 3.]\n",
    "ar1=np.array(a)\n",
    "ar1[0] #first array \n",
    "ar1[0:2]# # first and second elements"
   ]
  },
  {
   "cell_type": "markdown",
   "metadata": {},
   "source": [
    "The NumPy indexing is similar the python list. The following creates a two dimensional array, consisting of two rows and four columns:"
   ]
  },
  {
   "cell_type": "code",
   "execution_count": null,
   "metadata": {},
   "outputs": [],
   "source": [
    "X = [[1, 2, 3, 4], [5, 6, 7, 8]]\n",
    "ar2by4=np.array(X) # creates the array\n",
    "ar2by4.dtype # show the type\n",
    "ar2by4.astype(np.int32) # change the type\n",
    "ar2by4.shape # \n",
    "ar2by4.ndim #  number of dimension "
   ]
  },
  {
   "cell_type": "markdown",
   "metadata": {},
   "source": [
    "For indexing of arrays with more than one dimension or axis, we separate our indexing or slicing operations by commas. "
   ]
  },
  {
   "cell_type": "code",
   "execution_count": null,
   "metadata": {},
   "outputs": [],
   "source": [
    "ar2by4[0,1] # element on first row and second column\n",
    "ar2by4[:,1] # second column\n",
    "ar2by4[0,:] # first row \n",
    "ar2by4[[0,1],[2,3]] # elements on first and second rows and  third and fourth columns."
   ]
  },
  {
   "cell_type": "markdown",
   "metadata": {},
   "source": [
    "The mathematical operation  (+, -, /, *, and **)  can be applied directly on the array.\n"
   ]
  },
  {
   "cell_type": "code",
   "execution_count": 7,
   "metadata": {},
   "outputs": [
    {
     "data": {
      "text/plain": [
       "array([[1, 3, 3, 5],\n",
       "       [5, 7, 7, 9]])"
      ]
     },
     "execution_count": 7,
     "metadata": {},
     "output_type": "execute_result"
    }
   ],
   "source": [
    "\n",
    "X=np.array([[1, 2, 3, 4], [5, 6, 7, 8]]) \n",
    "Y=np.array( [[0, 1, 0, 1], [1, 0, 1, 0]])\n",
    "Z=np.array( [[0, 1, 0, 1]])\n",
    "X+1\n",
    "X*2\n",
    "X+Y\n",
    "X+Z\n",
    "X-Y\n",
    "\n"
   ]
  },
  {
   "cell_type": "markdown",
   "metadata": {},
   "source": [
    "### Conditionals\n",
    "The value True and False are referred to as logical values that used the same in Python, their corresponding values are 1 and 0. Run the following codes and explains what the codes do.\n",
    "\n",
    "\n",
    "\n",
    "The values `True` and `False` are referred to as Boolean values in Python. They are used to represent truth values, with True indicating a condition is true and False indicating a condition is false. While `True` and `False` are often used for logical comparisons, it's important to note that their corresponding integer values are not always 1 and 0.\n",
    "\n",
    "In Python, you can check the integer values of True and False using the int() function:"
   ]
  },
  {
   "cell_type": "code",
   "execution_count": null,
   "metadata": {},
   "outputs": [],
   "source": [
    "print(int(True))  # Outputs: 1\n",
    "print(int(False)) # Outputs: 0"
   ]
  },
  {
   "cell_type": "markdown",
   "metadata": {},
   "source": [
    "However, the value of `True` as 1 and `False` as 0 is a convention used in some contexts, especially when performing arithmetic operations with Boolean values. Run the following codes and explains what the codes do."
   ]
  },
  {
   "cell_type": "code",
   "execution_count": null,
   "metadata": {},
   "outputs": [],
   "source": [
    "8 < 9\n",
    "9 < 8\n",
    "x = 3\n",
    "y = 9\n",
    "x < y"
   ]
  },
  {
   "cell_type": "markdown",
   "metadata": {},
   "source": [
    "Commands involving control structures frequently incorporate conditional statements that utilize comparison operator (>, <, =>, <=, ==, !=, ~, is)"
   ]
  },
  {
   "cell_type": "code",
   "execution_count": null,
   "metadata": {},
   "outputs": [],
   "source": [
    "3 < 4\n",
    "3 != 4\n",
    "3 == 4\n",
    "3 is 4\n",
    "'hi' == 'h' + 'i'\n",
    "'HI' != 'hi'\n",
    "[1, 2] != [2, 1]\n"
   ]
  },
  {
   "cell_type": "markdown",
   "metadata": {},
   "source": [
    "The structure command of if is as below.\n",
    "```\n",
    "if(condition1)\n",
    "  cons.expr \n",
    "elif(condition2) \n",
    "  alt.expr1 \n",
    "else \n",
    "  alt.expr2\n",
    "```\n",
    "If `condition1` satisfies then `cons.expr` run otherwise if `condition2` satisfies `alt.expr1` run, otherwise  `alt.expr2` runs. "
   ]
  },
  {
   "cell_type": "code",
   "execution_count": null,
   "metadata": {},
   "outputs": [],
   "source": [
    "x = 4\n",
    "y = 4\n",
    "\n",
    "if x < y:\n",
    "  print('x is less than y')\n",
    "elif x > y:\n",
    " print('x greater than y')\n",
    "else:\n",
    " print(' x and y are equal')\n"
   ]
  },
  {
   "cell_type": "markdown",
   "metadata": {},
   "source": [
    "### Function\n",
    "In the context of programming, a function is a sequence of statements that performs a specific computation. Functions consist of three parts: arguments, a script, and an output. Python has two types of functions: built-in functions, which are integral to Python's core or packaged within libraries, and user-defined functions, which are created by the user."
   ]
  },
  {
   "cell_type": "markdown",
   "metadata": {},
   "source": [
    "#### Built-in function\n",
    "Python includes a variety of functions in its core that are consistently accessible, [see](https: // docs.python.org/3/library/functions.html)"
   ]
  },
  {
   "cell_type": "code",
   "execution_count": null,
   "metadata": {},
   "outputs": [],
   "source": [
    "x = [1, 2, 3]\n",
    "type(x)\n",
    "len(x)\n",
    "min(x)"
   ]
  },
  {
   "cell_type": "markdown",
   "metadata": {},
   "source": [
    "To round the value, you can use the `round(value, size)` function"
   ]
  },
  {
   "cell_type": "code",
   "execution_count": null,
   "metadata": {},
   "outputs": [],
   "source": [
    "round(0.12345, 2)\n",
    "round(0.12345, 3)"
   ]
  },
  {
   "cell_type": "markdown",
   "metadata": {},
   "source": [
    "#### User function\n",
    "Functions has three parts; argument, script, and output. It has simple structure\n",
    "\n",
    "```\n",
    "def name (argument):  \n",
    "   script\n",
    "   return output\n",
    "```"
   ]
  },
  {
   "cell_type": "markdown",
   "metadata": {},
   "source": [
    "For instance, let's write a function that takes two arguments, adds them together, and returns the result:"
   ]
  },
  {
   "cell_type": "code",
   "execution_count": null,
   "metadata": {},
   "outputs": [],
   "source": [
    "def add_numbers(a, b):\n",
    "    result = a + b\n",
    "    return result\n",
    "\n",
    "# Example usage of the function\n",
    "num1 = 5\n",
    "num2 = 7\n",
    "sum_result = add_numbers(num1, num2)\n",
    "print(\"Sum:\", sum_result)"
   ]
  },
  {
   "cell_type": "markdown",
   "metadata": {},
   "source": [
    "In this example, the `add_numbers` function takes two arguments (`a` and `b`), adds them together, and returns the result. When you call the function with `add_numbers(num1, num2)`, it computes the sum of `num1` and `num2`, which is 12 in this case. The result is then printed to the console."
   ]
  },
  {
   "cell_type": "markdown",
   "metadata": {},
   "source": [
    "### Loops\n",
    "When you have a repetitive task, you can use either a `for` loop or a `while` loop. The structure of a `while` loop is as follows:\n",
    "```\n",
    "while condition:\n",
    "    code goes here\n",
    "```\n",
    "\n",
    "In a `while` loop, the code inside the loop will be executed repeatedly as long as the specified condition remains `True`. Once the condition becomes `False`, the loop terminates, and the program continues with the next instruction after the loop."
   ]
  },
  {
   "cell_type": "code",
   "execution_count": null,
   "metadata": {},
   "outputs": [],
   "source": [
    "count = 0\n",
    "while count < 10:\n",
    "    print(count)\n",
    "    count = count + 1"
   ]
  },
  {
   "cell_type": "markdown",
   "metadata": {},
   "source": [
    "You can use the `else` clause with a `while` loop in Python. The else block associated with a `while` loop is executed when the loop's condition becomes `Fals`e, and the loop naturally exits. "
   ]
  },
  {
   "cell_type": "code",
   "execution_count": null,
   "metadata": {},
   "outputs": [],
   "source": [
    "count = 0\n",
    "while count < 10:\n",
    "    print(count)\n",
    "    count = count + 1\n",
    "else: \n",
    "    print('count is greater than 10')"
   ]
  },
  {
   "cell_type": "markdown",
   "metadata": {},
   "source": [
    "In this example, the `else` block will be executed when `count` becomes equal to or greater than 10, and the `while` loop terminates."
   ]
  },
  {
   "cell_type": "markdown",
   "metadata": {},
   "source": [
    "The `for` loop in Python has the following structure:\n",
    "```\n",
    "for variable in iterable:\n",
    "    code\n",
    "```"
   ]
  },
  {
   "cell_type": "code",
   "execution_count": null,
   "metadata": {},
   "outputs": [],
   "source": [
    "iterable = (0,1,2,3,5,6)\n",
    "for i in iterable:\n",
    "    if i == 0:\n",
    "        print('i is zero')    \n",
    "        next\n",
    "    if a % 2 == 0:\n",
    "        print('i is a even number')\n",
    "    else:\n",
    "        print('i is a odd number')   "
   ]
  },
  {
   "cell_type": "markdown",
   "metadata": {},
   "source": [
    "Sequences are often represented using `range(start, end, step)`, making it a valuable choice."
   ]
  },
  {
   "cell_type": "code",
   "execution_count": null,
   "metadata": {},
   "outputs": [],
   "source": [
    "for i in range(6):\n",
    "    print(i)"
   ]
  },
  {
   "cell_type": "markdown",
   "metadata": {},
   "source": [
    "This will print numbers 0 through 5."
   ]
  },
  {
   "cell_type": "code",
   "execution_count": 2,
   "metadata": {},
   "outputs": [
    {
     "name": "stdout",
     "output_type": "stream",
     "text": [
      "0\n",
      "1\n",
      "2\n",
      "3\n",
      "4\n",
      "5\n",
      "The loop stops at 5\n"
     ]
    }
   ],
   "source": [
    "for i in range(6):\n",
    "    print(i) \n",
    "else:\n",
    "    print('The loop stops at', i) "
   ]
  },
  {
   "cell_type": "markdown",
   "metadata": {},
   "source": [
    "This will print numbers 0 through 5, at the end  print `The loop stops at 5` "
   ]
  },
  {
   "cell_type": "markdown",
   "metadata": {},
   "source": [
    "looping through even number from 0 to 6"
   ]
  },
  {
   "cell_type": "code",
   "execution_count": null,
   "metadata": {},
   "outputs": [],
   "source": [
    "for i in range(0,6,2):\n",
    "    print(i) "
   ]
  },
  {
   "cell_type": "markdown",
   "metadata": {},
   "source": [
    "### list Comprehension\n",
    "List comprehension in Python is a concise method for generating a list from an existing sequence. The general syntax for list comprehension is as follows:\n",
    "```\n",
    "new_list = [expression for item in iterable if condition]\n",
    "```\n",
    "\n",
    "Here's a breakdown of the components: <br>\n",
    "`new_list`: This is the new list that will be created.  <br>\n",
    "`expression`: It represents an expression that defines how each item in the iterable will be transformed and added to the new list. <br>\n",
    "`item`: It is a variable that takes on each element of the iterable one at a time. <br>\n",
    "`iterable`: This is the sequence or iterable from which the elements will be taken. <br>\n",
    "`condition` (optional): It specifies an optional filter that determines whether an element from the iterable is included in the new list.<br>\n",
    "\n",
    "List comprehensions are a powerful and readable way to create lists in Python, and they are often used when you want to apply a transformation or filter to elements from an existing iterable. Below is a list generated using a `for` loop; rewrite it using a list comprehension."
   ]
  },
  {
   "cell_type": "markdown",
   "metadata": {},
   "source": [
    "Original list generation using a for loop:"
   ]
  },
  {
   "cell_type": "code",
   "execution_count": null,
   "metadata": {},
   "outputs": [],
   "source": [
    "x = []\n",
    "for i in range(3):\n",
    "    for j in range(2):\n",
    "        x.append((i, j))\n",
    "print(x)"
   ]
  },
  {
   "cell_type": "markdown",
   "metadata": {},
   "source": [
    "\n",
    "List comprehension equivalent:"
   ]
  },
  {
   "cell_type": "code",
   "execution_count": null,
   "metadata": {},
   "outputs": [],
   "source": [
    "x=[(i, j) for i in range(3) for j in range(2)]"
   ]
  },
  {
   "cell_type": "markdown",
   "metadata": {},
   "source": [
    "[Contents](../..) \\| [Next (2) working with data](../02-working-with-data)\n",
    "---------\n",
    "[Exercise Starting with Data](../../exercises/01-exercise)"
   ]
  }
 ],
 "metadata": {
  "kernelspec": {
   "display_name": "Python 3.9.13 64-bit",
   "language": "python",
   "name": "python3"
  },
  "language_info": {
   "codemirror_mode": {
    "name": "ipython",
    "version": 3
   },
   "file_extension": ".py",
   "mimetype": "text/x-python",
   "name": "python",
   "nbconvert_exporter": "python",
   "pygments_lexer": "ipython3",
   "version": "3.11.6"
  },
  "vscode": {
   "interpreter": {
    "hash": "397704579725e15f5c7cb49fe5f0341eb7531c82d19f2c29d197e8b64ab5776b"
   }
  }
 },
 "nbformat": 4,
 "nbformat_minor": 2
}
